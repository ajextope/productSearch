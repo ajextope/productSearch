{
 "cells": [
  {
   "cell_type": "markdown",
   "id": "7f9adb41",
   "metadata": {},
   "source": [
    "### PRODUCT SEARCH IN ECOMMERCE"
   ]
  },
  {
   "cell_type": "code",
   "execution_count": 5,
   "id": "6b448a23",
   "metadata": {},
   "outputs": [],
   "source": [
    "import os\n",
    "import cv2\n",
    "import numpy as np\n",
    "from tensorflow.keras.applications.resnet50 import preprocess_input\n",
    "\n",
    "def load_and_preprocess_images(image_dir, target_size=(224, 224)):\n",
    "    image_data = []\n",
    "    image_paths = []\n",
    "\n",
    "    for root, dirs, files in os.walk(image_dir):\n",
    "        for file in files:\n",
    "            if file.endswith(('.jpg', '.jpeg', '.png')):\n",
    "                img_path = os.path.join(root, file)\n",
    "                img = cv2.imread(img_path)\n",
    "                img = cv2.resize(img, target_size)\n",
    "                img = cv2.cvtColor(img, cv2.COLOR_BGR2RGB)\n",
    "                img = preprocess_input(img)  # ResNet50 preprocessing\n",
    "                image_data.append(img)\n",
    "                image_paths.append(img_path)\n",
    "    \n",
    "    return np.array(image_data), image_paths\n"
   ]
  },
  {
   "cell_type": "code",
   "execution_count": null,
   "id": "686695e6",
   "metadata": {},
   "outputs": [],
   "source": [
    "from tensorflow.keras.applications import ResNet50\n",
    "from tensorflow.keras.models import Model\n",
    "from tqdm import tqdm\n",
    "\n",
    "# Load pretrained ResNet50 (exclude final classification layer)\n",
    "base_model = ResNet50(weights='imagenet', include_top=False, pooling='avg')\n",
    "model = Model(inputs=base_model.input, outputs=base_model.output)\n",
    "# Save the model\n",
    "\n",
    "def extract_features(images, model):\n",
    "    features = []\n",
    "    for img in tqdm(images):\n",
    "        img_batch = np.expand_dims(img, axis=0)\n",
    "        feature = model.predict(img_batch, verbose=0)\n",
    "        features.append(feature.flatten())\n",
    "    return np.array(features)\n"
   ]
  },
  {
   "cell_type": "code",
   "execution_count": 7,
   "id": "008a5430",
   "metadata": {},
   "outputs": [
    {
     "name": "stderr",
     "output_type": "stream",
     "text": [
      "100%|██████████| 118/118 [01:35<00:00,  1.23it/s]\n",
      "WARNING:absl:You are saving your model as an HDF5 file via `model.save()` or `keras.saving.save_model(model)`. This file format is considered legacy. We recommend using instead the native Keras format, e.g. `model.save('my_model.keras')` or `keras.saving.save_model(model, 'my_model.keras')`. \n"
     ]
    },
    {
     "name": "stdout",
     "output_type": "stream",
     "text": [
      "Features and paths saved.\n"
     ]
    }
   ],
   "source": [
    "# Load and preprocess\n",
    "image_dir = '../data/raw'  # adjust this to your folder\n",
    "images, image_paths = load_and_preprocess_images(image_dir)\n",
    "\n",
    "# Extract features\n",
    "features = extract_features(images, model)\n",
    "\n",
    "# Save features and image paths\n",
    "np.save('../features/resnet50_features.npy', features)\n",
    "\n",
    "import pickle\n",
    "with open('../features/image_paths.pkl', 'wb') as f:\n",
    "    pickle.dump(image_paths, f)\n",
    "\n",
    "# Save the model\n",
    "model.save('../models/resnet50_model.h5')\n",
    "print(\"Features and paths saved.\")\n"
   ]
  }
 ],
 "metadata": {
  "kernelspec": {
   "display_name": "base",
   "language": "python",
   "name": "python3"
  },
  "language_info": {
   "codemirror_mode": {
    "name": "ipython",
    "version": 3
   },
   "file_extension": ".py",
   "mimetype": "text/x-python",
   "name": "python",
   "nbconvert_exporter": "python",
   "pygments_lexer": "ipython3",
   "version": "3.12.3"
  }
 },
 "nbformat": 4,
 "nbformat_minor": 5
}
